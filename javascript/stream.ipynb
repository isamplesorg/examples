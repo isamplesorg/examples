{
 "cells": [
  {
   "cell_type": "markdown",
   "metadata": {},
   "source": [
    "# Handling a streaming response from iSamples\n",
    "\n",
    "This is an example using Javascript to handle a streaming JSON response from iSamples uinsg [JSONStrum](https://github.com/xtao-org/jsonstrum).\n",
    "\n",
    "A request is made for 500,000 records, returning identifier, x, y, z, H3-10 (the [H3](https://h3geo.org/) value at resolution 10)\n",
    "\n",
    "It takes about 20 seconds to stream all the content. The last record is an \"end of response\" indicator, hence the total record count is 500,001."
   ]
  },
  {
   "cell_type": "code",
   "execution_count": 1,
   "metadata": {},
   "outputs": [],
   "source": [
    "import {JsonStrum} from 'npm:@xtao-org/jsonstrum'"
   ]
  },
  {
   "cell_type": "code",
   "execution_count": 2,
   "metadata": {},
   "outputs": [
    {
     "name": "stdout",
     "output_type": "stream",
     "text": [
      "200\n",
      "500001\n"
     ]
    }
   ],
   "source": [
    "class ISamplesClient {\n",
    "    constructor(service_url) {\n",
    "        this.service_url = service_url;\n",
    "    }\n",
    "\n",
    "    async getStream(params) {\n",
    "        const headers = new Headers();\n",
    "        headers.append(\"Origin\", \"localhost\")\n",
    "        const url = new URL(this.service_url + \"thing/stream\");\n",
    "        for (const [k, v] of Object.entries(params)) {\n",
    "            url.searchParams.append(k, v);\n",
    "        }\n",
    "        const records = [];\n",
    "        const strum = JsonStrum({\n",
    "            // A record. This is where additional record handling would be implemented.\n",
    "            object: (object) => records.push(object),\n",
    "            //array: (array) => console.log('array', array),\n",
    "            // will only parse and emit objects at this level of nesting \n",
    "            level: 3,\n",
    "        });\n",
    "        \n",
    "        const decoder = new TextDecoder();\n",
    "        const response = await fetch(url, {\"headers\":headers});\n",
    "        console.log(response.status);\n",
    "        for await (const chunk of response.body) {\n",
    "            strum.chunk(decoder.decode(chunk));\n",
    "        }\n",
    "        return records;\n",
    "    }\n",
    "}\n",
    "\n",
    "const n_records = 500000;\n",
    "const params = new URLSearchParams({\n",
    "    \"rows\": n_records,\n",
    "    \"fl\": \"id,x:producedBy_samplingSite_location_longitude,y:producedBy_samplingSite_location_latitude,z:producedBy_samplingSite_location_elevationInMeters,h310:producedBy_samplingSite_location_h3_12\",\n",
    "    \"fq\": \"*:*\"\n",
    "});\n",
    "\n",
    "\n",
    "let cli = new ISamplesClient(\"http://central.isample.xyz/isamples_central/\");\n",
    "let records = await cli.getStream(params);\n",
    "console.log(records.length);\n"
   ]
  }
 ],
 "metadata": {
  "kernelspec": {
   "display_name": "Deno",
   "language": "typescript",
   "name": "deno"
  },
  "language_info": {
   "file_extension": ".ts",
   "mimetype": "text/x.typescript",
   "name": "typescript",
   "nb_converter": "script",
   "pygments_lexer": "typescript",
   "version": "5.2.2"
  }
 },
 "nbformat": 4,
 "nbformat_minor": 2
}
